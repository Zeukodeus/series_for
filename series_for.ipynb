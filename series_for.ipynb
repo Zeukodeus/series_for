{
  "nbformat": 4,
  "nbformat_minor": 0,
  "metadata": {
    "colab": {
      "provenance": [],
      "authorship_tag": "ABX9TyNXcm+rZvY8EgtpvqReA9dW",
      "include_colab_link": true
    },
    "kernelspec": {
      "name": "python3",
      "display_name": "Python 3"
    },
    "language_info": {
      "name": "python"
    }
  },
  "cells": [
    {
      "cell_type": "markdown",
      "metadata": {
        "id": "view-in-github",
        "colab_type": "text"
      },
      "source": [
        "<a href=\"https://colab.research.google.com/github/Zeukodeus/series_for/blob/main/series_for.ipynb\" target=\"_parent\"><img src=\"https://colab.research.google.com/assets/colab-badge.svg\" alt=\"Open In Colab\"/></a>"
      ]
    },
    {
      "cell_type": "markdown",
      "source": [],
      "metadata": {
        "id": "V30Tam_hFynL"
      }
    },
    {
      "cell_type": "code",
      "execution_count": null,
      "metadata": {
        "id": "VEdsy_sTEYP_"
      },
      "outputs": [],
      "source": [
        "s = \"serie 1:\"\n",
        "for i in range(1, 11):\n",
        "  s += str(i)\n",
        "  if i != 10:\n",
        "    s += \", \"\n",
        "print(s)"
      ]
    },
    {
      "cell_type": "code",
      "source": [
        "# serie 2: 2, 4, 8, 16, 32, 64 ....\n",
        "\n",
        "for i in range(1, 11):\n",
        "    print(2**i)"
      ],
      "metadata": {
        "id": "MdhZ0j6wI48V"
      },
      "execution_count": null,
      "outputs": []
    },
    {
      "cell_type": "code",
      "source": [
        "# serie 3: 2, 6, 12, 20, 30, 42, 56, ...\n",
        "\n",
        "for i in range(1, 11):\n",
        "    if i == 1:\n",
        "        print(2)\n",
        "    else:\n",
        "        n = i*(i+1)\n",
        "        print(n)"
      ],
      "metadata": {
        "id": "yVJ6DgMhPmkC"
      },
      "execution_count": null,
      "outputs": []
    }
  ]
}